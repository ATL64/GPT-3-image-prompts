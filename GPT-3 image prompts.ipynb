{
 "cells": [
  {
   "cell_type": "markdown",
   "metadata": {},
   "source": [
    "## GPT-3 image prompts"
   ]
  },
  {
   "cell_type": "markdown",
   "metadata": {},
   "source": [
    "The goal of this short notebook is to find a decent way of asking GPT-3 to output prompts that can be then used as inputs for a text-to-image application such as DALLE-2 or Stable Diffusion.\n",
    "I mostly varied the input_text below until I found something that worked relatively well."
   ]
  },
  {
   "cell_type": "code",
   "execution_count": null,
   "metadata": {},
   "outputs": [],
   "source": [
    "import os\n",
    "import openai\n",
    "openai.organization = \"org-dlB5L2mMoVgC00aizpSaf2tW\"\n",
    "openai.api_key = api_key # use the key from your openai account\n",
    "openai.Model.list()\n",
    "#import requests"
   ]
  },
  {
   "cell_type": "markdown",
   "metadata": {},
   "source": [
    "#### Pre-defined format approach"
   ]
  },
  {
   "cell_type": "code",
   "execution_count": 49,
   "metadata": {},
   "outputs": [],
   "source": [
    "input_text = \"\"\"\n",
    "Write a sentence using the following template:\n",
    "\n",
    "A [format] of [scene] in the style of [style].\n",
    "The mood is [what the mood is] and [something random].\n",
    "\n",
    "You need to replace the parameters in the brackets. Use the following lists to choose from for each one:\n",
    "\n",
    "\n",
    "The scene parameter needs to specify an object or subject performing an action. Describe the scenery. Describe the mood and the lighting.\n",
    "The format could be a painting, a photograph or any visual media.\n",
    "The parameters should be related to topics including sci-fi, technology, space, science, music, food.\n",
    "\n",
    "\"\"\""
   ]
  },
  {
   "cell_type": "code",
   "execution_count": 50,
   "metadata": {},
   "outputs": [],
   "source": [
    "response = openai.Completion.create(\n",
    "  model=\"text-davinci-002\",\n",
    "  prompt=input_text,\n",
    "  temperature=0.9,\n",
    "  max_tokens=3334,\n",
    "  top_p=1,\n",
    "  frequency_penalty=0,\n",
    "  presence_penalty=0\n",
    ")"
   ]
  },
  {
   "cell_type": "code",
   "execution_count": 51,
   "metadata": {},
   "outputs": [
    {
     "name": "stdout",
     "output_type": "stream",
     "text": [
      "\n",
      "A photograph of a spaceship in the style of sci-fi. There is a spaceship in the background with a bright light shining from it. The mood is mysterious and the lighting is dim.\n"
     ]
    }
   ],
   "source": [
    "print(response.choices[0].text)"
   ]
  },
  {
   "cell_type": "markdown",
   "metadata": {},
   "source": [
    "#### Giving examples and letting GPT-3 be inventive approach"
   ]
  },
  {
   "cell_type": "code",
   "execution_count": 52,
   "metadata": {},
   "outputs": [],
   "source": [
    "# Let's try by giving it examples"
   ]
  },
  {
   "cell_type": "code",
   "execution_count": 69,
   "metadata": {},
   "outputs": [],
   "source": [
    "input_text = \"\"\"\n",
    "The following are examples of successful prompts for describing images:\n",
    "\n",
    "- Mechanical arm with a paint brush and a canvas by Li Shuxing and Tyler Edlin\n",
    "- A beautiful painting of a singular lighthouse, shining its light across a tumultuous sea of blood by greg rutkowski and thomas kinkade, Trending on artstation\n",
    "- A fantastic VR 3D sci-fi painting of a celestial cyberpunk castle by li shuxing, trending on artstation\n",
    "- A scene of a cyberpunk city, with bright lights and sharp geometric shapes. Think Blade Runner meets Tron. by Kilian Eng\n",
    "- Grainy abstract experimental expired film photo of a woman in red dress, talking angrily, in 1960s New York City by Saul Leiter, 50mm lens.\n",
    "- :) octane 3D render :D\n",
    "- Film still of a cackling man, bushy moustache, extreme close-up shot\n",
    "- A close-up of a woman's face catpured in low light with a soft focus. There is a gentle pink hue to the image, and the woman's features are lightly blurred. Cinestill 800t\n",
    "- Film still, gangster squirrel counting his money, low angle, shot from below, worms eye view.\n",
    "- High quality DSLR photo of cute pig in a big blue hat in a Dickensian back street at dusk, long shadows, beams of sunlight\n",
    "- Two construction workers arguing intently, from Jaws (1975)\n",
    "- Kermit the Frog, from Blade Runner 2049\n",
    "- 'IN A DILLEMA' 3D Art Based on Simon Stalenhag Concept\n",
    "- Cat sitting on couch, Ballpoint pen art\n",
    "- Cubic being playing ice hockey, pencil sketch\n",
    "\n",
    "\n",
    "Create one new successful prompt for an image, specifying the style, different from the ones above, related to topics including sci-fi, animals, technology, space, science, music, food.\n",
    "\"\"\""
   ]
  },
  {
   "cell_type": "code",
   "execution_count": 70,
   "metadata": {},
   "outputs": [],
   "source": [
    "response = openai.Completion.create(\n",
    "  model=\"text-davinci-002\",\n",
    "  prompt=input_text,\n",
    "  temperature=0.9,\n",
    "  max_tokens=3334,\n",
    "  top_p=1,\n",
    "  frequency_penalty=0,\n",
    "  presence_penalty=0\n",
    ")"
   ]
  },
  {
   "cell_type": "code",
   "execution_count": 71,
   "metadata": {},
   "outputs": [
    {
     "name": "stdout",
     "output_type": "stream",
     "text": [
      "\n",
      "A digital painting of a giant robot fighting a giant monster in a ruined city.\n"
     ]
    }
   ],
   "source": [
    "print(response.choices[0].text)"
   ]
  },
  {
   "cell_type": "code",
   "execution_count": 72,
   "metadata": {},
   "outputs": [
    {
     "name": "stdout",
     "output_type": "stream",
     "text": [
      "\n",
      "A photo of a rocket ship taking off, with a bright trail of smoke behind it.\n",
      "\n",
      "- A scene from a future city, with flying cars and tall buildings. think The Jetsons meets Blade Runner.\n",
      "\n",
      "A giant mechanical elephant moving through a dense forest, destroying everything in its path.\n",
      "\n",
      "A still from a music video of a band performing in a dark, dank basement. The band is wearing all black and the only light is coming from a single, bare light bulb hanging overhead.\n",
      "\n",
      "A still from a futuristic sci-fi movie, set on a space station. The scene is of a group of people in a control room, monitoring the activity of a large alien creature as it moves around in its cage.\n",
      "\n",
      "A pencil sketch of a scientist holding a beaker of blue liquid, with a look of triumph on her face.\n",
      "\n",
      "- A photo of a plate of food, with the focus on the different colors and textures of the ingredients.\n",
      "- A painting of a tree, with the leaves made up of different musical notes.\n",
      "- A sculpture of a hand, made out of different electronic components.\n",
      "- A photograph of a person in a spacesuit, floating in front of a planet.\n",
      "- A drawing of a cat, using different shades of green.\n",
      "\n",
      "A close-up of a woman's face, captured in low light with a soft focus. There is a gentle pink hue to the image, and the woman's features are lightly blurred. Cinestill 800t\n",
      "\n",
      "A still from a sci-fi movie set in space, with a large spaceship in the background and a small spaceship in the foreground.\n",
      "\n",
      "A 3D render of a man in a spacesuit, floating weightlessly in the vast emptiness of space.\n"
     ]
    }
   ],
   "source": [
    "for i in range(10):\n",
    "    response = openai.Completion.create(\n",
    "              model=\"text-davinci-002\",\n",
    "              prompt=input_text,\n",
    "              temperature=0.9,\n",
    "              max_tokens=3334,\n",
    "              top_p=1,\n",
    "              frequency_penalty=0,\n",
    "              presence_penalty=0\n",
    "            )\n",
    "    print(response.choices[0].text)"
   ]
  },
  {
   "cell_type": "markdown",
   "metadata": {},
   "source": [
    "#### Conclusion"
   ]
  },
  {
   "cell_type": "markdown",
   "metadata": {},
   "source": [
    "The first approach is problematic.  It seems to *limit* the network rather than showing it the way.  It always goes for the structured as asked, but is not very inventive in the variations e.g. almost always using \"dim light\" or a woman walking.\n",
    "\n",
    "The second approach seems to work better, although sometimes it spits out one of the examples in the text (or small variation of it), it mostly comes up with random stuff"
   ]
  }
 ],
 "metadata": {
  "kernelspec": {
   "display_name": "Python 3",
   "language": "python",
   "name": "python3"
  },
  "language_info": {
   "codemirror_mode": {
    "name": "ipython",
    "version": 3
   },
   "file_extension": ".py",
   "mimetype": "text/x-python",
   "name": "python",
   "nbconvert_exporter": "python",
   "pygments_lexer": "ipython3",
   "version": "3.7.6"
  }
 },
 "nbformat": 4,
 "nbformat_minor": 2
}
